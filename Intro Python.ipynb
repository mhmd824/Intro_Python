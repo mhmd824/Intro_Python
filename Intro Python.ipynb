{
  "nbformat": 4,
  "nbformat_minor": 0,
  "metadata": {
    "colab": {
      "provenance": []
    },
    "kernelspec": {
      "name": "python3",
      "display_name": "Python 3"
    },
    "language_info": {
      "name": "python"
    }
  },
  "cells": [
    {
      "cell_type": "markdown",
      "source": [
        "1. WHAT ARE THE TYPE OF APPLICATION.\n",
        "\n",
        "\n",
        "\n",
        "\n",
        "\n"
      ],
      "metadata": {
        "id": "kn5MsfRvwGXw"
      }
    },
    {
      "cell_type": "markdown",
      "source": [
        "4 .Write a Python program to check if a number is positive, negative or\n",
        "zero."
      ],
      "metadata": {
        "id": "JxcezWqgxpLb"
      }
    },
    {
      "cell_type": "code",
      "source": [
        "num = float(input(\"Enter a number :\"))\n",
        "if num > 0:\n",
        "    print(\"Positive\")\n",
        "elif num == 0:\n",
        "    print(\"zero\")\n",
        "else:\n",
        "    print(\"Nagative\")"
      ],
      "metadata": {
        "colab": {
          "base_uri": "https://localhost:8080/"
        },
        "id": "ezYYzKG5xunn",
        "outputId": "45ee4a19-5302-4d62-eae2-d5494f66e78b"
      },
      "execution_count": 5,
      "outputs": [
        {
          "output_type": "stream",
          "name": "stdout",
          "text": [
            "Enter a number :-8\n",
            "Nagative\n"
          ]
        }
      ]
    },
    {
      "cell_type": "markdown",
      "source": [
        "5. Write a Python program to get the Factorial number of given numbers."
      ],
      "metadata": {
        "id": "hK2__xjuzv5o"
      }
    },
    {
      "cell_type": "code",
      "source": [
        "def factorial(n):\n",
        "  if n == 0 or n == 1 :\n",
        "    return 1\n",
        "  elif n < 0:\n",
        "    return Invalid\n",
        "  else:\n",
        "    return  n * factorial(n -1)\n",
        "\n",
        "num = int(input(\"Enter the number :\"))\n",
        "print(f\"The factorial of {num} is {factorial(num)}\")"
      ],
      "metadata": {
        "colab": {
          "base_uri": "https://localhost:8080/"
        },
        "id": "pfNBZjbcz5bP",
        "outputId": "88f5e8db-2d0d-4387-9de9-b4f9d09953bc"
      },
      "execution_count": 16,
      "outputs": [
        {
          "output_type": "stream",
          "name": "stdout",
          "text": [
            "Enter the number :10\n",
            "The factorial of 10 is 3628800\n"
          ]
        }
      ]
    },
    {
      "cell_type": "markdown",
      "source": [
        "6. Write a Python program to get the Fibonacci series of given range."
      ],
      "metadata": {
        "id": "Uxlr_Yta4Rg2"
      }
    },
    {
      "cell_type": "code",
      "source": [
        "def fibonacci_series(n):\n",
        "    a, b = 0, 1\n",
        "    for _ in range(n):\n",
        "        print(a, end=\" \")\n",
        "        a, b = b, a + b\n",
        "\n",
        "num = int(input(\"Enter the range: \"))\n",
        "print(\"Fibonacci Series:\")\n",
        "fibonacci_series(num)"
      ],
      "metadata": {
        "colab": {
          "base_uri": "https://localhost:8080/"
        },
        "id": "DOmzQeuy4mup",
        "outputId": "43666f32-cb38-4582-f148-981924e7ca4f"
      },
      "execution_count": 20,
      "outputs": [
        {
          "output_type": "stream",
          "name": "stdout",
          "text": [
            "Enter the range: 7\n",
            "Fibonacci Series:\n",
            "0 1 1 2 3 5 8 "
          ]
        }
      ]
    },
    {
      "cell_type": "markdown",
      "source": [
        "7 .  How memory is managed in Python?"
      ],
      "metadata": {
        "id": "cta_Vtes5jSd"
      }
    }
  ]
}