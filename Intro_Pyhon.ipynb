{
  "nbformat": 4,
  "nbformat_minor": 0,
  "metadata": {
    "colab": {
      "provenance": []
    },
    "kernelspec": {
      "name": "python3",
      "display_name": "Python 3"
    },
    "language_info": {
      "name": "python"
    }
  },
  "cells": [
    {
      "cell_type": "markdown",
      "source": [
        "1. WHAT ARE THE TYPE OF APPLICATION.\n",
        "\n",
        "Web Applications – Django, Flask, FastAPI\n",
        "\n",
        "Desktop GUI Applications – Tkinter, PyQt, Kivy\n",
        "\n",
        "Data Science & Machine Learning – NumPy, Pandas, TensorFlow\n",
        "\n",
        "Game Development – Pygame, Panda3D.\n",
        "\n",
        "Automation & Scripting – Selenium, BeautifulSoup, OS module\n",
        "\n",
        "IoT Applications – Raspberry Pi (GPIO), MQTT, Arduino\n",
        "\n",
        "Cybersecurity & Ethical Hacking – Scapy, Pwntools, Socket\n",
        "\n",
        "Cloud & DevOps – Boto3 (AWS SDK), Docker SDK, Ansible\n",
        "\n",
        "\n",
        "\n",
        "\n",
        "\n"
      ],
      "metadata": {
        "id": "kn5MsfRvwGXw"
      }
    },
    {
      "cell_type": "markdown",
      "source": [
        "2.What is programming?\n",
        "\n",
        "Programming is the process of writing instructions that a computer can execute to perform specific tasks.\n",
        "\n",
        "It involves using a programming language to create software, automate processes, and solve problems. Programming enables the development of applications, websites, games, and systems by giving computers step-by-step command."
      ],
      "metadata": {
        "id": "d9iQlxDZ02xB"
      }
    },
    {
      "cell_type": "markdown",
      "source": [
        "3.What is Python?\n",
        "\n",
        "Python is a high-level, interpreted programming language .\n",
        "\n",
        " It is widely used in various fields, including web development, data science, artificial intelligence, automation, and cybersecurity.\n",
        "\n",
        " Python supports multiple programming paradigms, such as procedural, object-oriented, and functional programming.\n",
        "\n",
        " It has a  standard library, making it powerful and versatile for different applications. Python’s dynamic typing and ease of syntax make it beginner-friendly while remaining efficient for complex software development"
      ],
      "metadata": {
        "id": "tz_PEVdP1FQ6"
      }
    },
    {
      "cell_type": "markdown",
      "source": [
        "4 .Write a Python program to check if a number is positive, negative or\n",
        "zero."
      ],
      "metadata": {
        "id": "JxcezWqgxpLb"
      }
    },
    {
      "cell_type": "code",
      "source": [
        "num = float(input(\"Enter a number :\"))\n",
        "if num > 0:\n",
        "    print(\"Positive\")\n",
        "elif num == 0:\n",
        "    print(\"zero\")\n",
        "else:\n",
        "    print(\"Nagative\")"
      ],
      "metadata": {
        "colab": {
          "base_uri": "https://localhost:8080/"
        },
        "id": "ezYYzKG5xunn",
        "outputId": "45ee4a19-5302-4d62-eae2-d5494f66e78b"
      },
      "execution_count": null,
      "outputs": [
        {
          "output_type": "stream",
          "name": "stdout",
          "text": [
            "Enter a number :-8\n",
            "Nagative\n"
          ]
        }
      ]
    },
    {
      "cell_type": "markdown",
      "source": [
        "5. Write a Python program to get the Factorial number of given numbers."
      ],
      "metadata": {
        "id": "hK2__xjuzv5o"
      }
    },
    {
      "cell_type": "code",
      "source": [
        "def factorial(n):\n",
        "  if n == 0 or n == 1 :\n",
        "    return 1\n",
        "  elif n < 0:\n",
        "    return Invalid\n",
        "  else:\n",
        "    return  n * factorial(n -1)\n",
        "\n",
        "num = int(input(\"Enter the number :\"))\n",
        "print(f\"The factorial of {num} is {factorial(num)}\")"
      ],
      "metadata": {
        "colab": {
          "base_uri": "https://localhost:8080/"
        },
        "id": "pfNBZjbcz5bP",
        "outputId": "88f5e8db-2d0d-4387-9de9-b4f9d09953bc"
      },
      "execution_count": null,
      "outputs": [
        {
          "output_type": "stream",
          "name": "stdout",
          "text": [
            "Enter the number :10\n",
            "The factorial of 10 is 3628800\n"
          ]
        }
      ]
    },
    {
      "cell_type": "markdown",
      "source": [
        "6. Write a Python program to get the Fibonacci series of given range."
      ],
      "metadata": {
        "id": "Uxlr_Yta4Rg2"
      }
    },
    {
      "cell_type": "code",
      "source": [
        "def fibonacci_series(n):\n",
        "    a, b = 0, 1\n",
        "    for _ in range(n):\n",
        "        print(a, end=\" \")\n",
        "        a, b = b, a + b\n",
        "\n",
        "num = int(input(\"Enter the range: \"))\n",
        "print(\"Fibonacci Series:\")\n",
        "fibonacci_series(num)"
      ],
      "metadata": {
        "colab": {
          "base_uri": "https://localhost:8080/"
        },
        "id": "DOmzQeuy4mup",
        "outputId": "43666f32-cb38-4582-f148-981924e7ca4f"
      },
      "execution_count": null,
      "outputs": [
        {
          "output_type": "stream",
          "name": "stdout",
          "text": [
            "Enter the range: 7\n",
            "Fibonacci Series:\n",
            "0 1 1 2 3 5 8 "
          ]
        }
      ]
    },
    {
      "cell_type": "markdown",
      "source": [
        "7 .  How memory is managed in Python?\n",
        "\n",
        "Memory management in Python is a combination of automatic memory management and manual memory management through the use of various techniques and libraries. Here's an overview of how memory is managed in Python:\n",
        "\n",
        "Automatic Memory Management\n",
        "Python uses a private heap to manage memory. The private heap is a pool of memory that is allocated by the Python interpreter when it starts up. When Python objects are created, they are stored in this private heap.\n",
        "\n",
        "Reference Counting\n",
        "Python uses a technique called reference counting to manage memory. When an object is created, its reference count is set to 1. Every time the object is assigned to a new variable or used in an expression, its reference count is incremented. When the object's reference count reaches 0, it is deallocated from memory.\n",
        "\n",
        "Garbage Collection\n",
        "While reference counting is efficient, it's not perfect. In some cases, objects can become cyclically referenced, meaning that they reference each other, but are no longer accessible from the rest of the program. To handle these cases, Python has a garbage collector that periodically scans the heap for unreachable objects and deallocates them.\n"
      ],
      "metadata": {
        "id": "cta_Vtes5jSd"
      }
    },
    {
      "cell_type": "markdown",
      "source": [
        "8.WHAT IS THE PURPOSE  CONTINUING STATEMENT IN PYTHON ?\n",
        "\n",
        "\n",
        "The continuing statement in Python, denoted by the continue keyword, serves the purpose of skipping the rest of the code inside a loop for the current iteration only.\n",
        "\n",
        "When the continue statement is encountered in a loop, Python immediately jumps to the next iteration of the loop, ignoring any remaining code in the current iteration.\n",
        "\n",
        "Here are some key aspects of the continue statement in Python:\n",
        "\n",
        "1. Skip current iteration: The continue statement skips the rest of the code in the current iteration and moves on to the next iteration.\n",
        "2. Loop continues: The loop itself does not terminate; only the current iteration is skipped.\n",
        "3. Used in loops: The continue statement is typically used in for and while loops.\n",
        "\n"
      ],
      "metadata": {
        "id": "CPvNPtq3qbjO"
      }
    },
    {
      "cell_type": "markdown",
      "source": [
        "9.Swap Two Numbers with Temp Variable and Without Temp Variable\n"
      ],
      "metadata": {
        "id": "Q32R9331rI1s"
      }
    },
    {
      "cell_type": "code",
      "source": [
        "def swap_with_temp(a, b):\n",
        "    temp = a\n",
        "    a = b\n",
        "    b = temp\n",
        "    return a, b\n",
        "\n",
        "\n",
        "def swap_without_temp(a, b):\n",
        "    a, b = b, a\n",
        "    return a, b\n",
        "\n",
        "\n",
        "a = 5\n",
        "b = 10\n",
        "print(\"Original values: a =\", a, \", b =\", b)\n",
        "\n",
        "a, b = swap_with_temp(a, b)\n",
        "print(\"Swapped values with temp variable: a =\", a, \", b =\", b)\n",
        "\n",
        "a, b = swap_without_temp(a, b)\n",
        "print(\"Swapped values without temp variable: a =\", a, \", b =\", b)\n"
      ],
      "metadata": {
        "colab": {
          "base_uri": "https://localhost:8080/"
        },
        "id": "Zl_mN8x3rhi4",
        "outputId": "f5e0d85e-32c9-44bd-d589-1989a0d14fd0"
      },
      "execution_count": null,
      "outputs": [
        {
          "output_type": "stream",
          "name": "stdout",
          "text": [
            "Original values: a = 5 , b = 10\n",
            "Swapped values with temp variable: a = 10 , b = 5\n",
            "Swapped values without temp variable: a = 5 , b = 10\n"
          ]
        }
      ]
    },
    {
      "cell_type": "markdown",
      "source": [
        "10. Find Whether a Given Number is Even or Odd\n"
      ],
      "metadata": {
        "id": "PGIwsDyBr6in"
      }
    },
    {
      "cell_type": "code",
      "source": [
        "def check_even_odd(num):\n",
        "    if num % 2 == 0:\n",
        "        print(num, \"is even.\")\n",
        "    else:\n",
        "        print(num, \"is odd.\")\n",
        "\n",
        "num = int(input(\"Enter a number: \"))\n",
        "check_even_odd(num)\n"
      ],
      "metadata": {
        "colab": {
          "base_uri": "https://localhost:8080/"
        },
        "id": "-EcFCFnCr-Zi",
        "outputId": "98a77ccf-6ea3-493d-fa23-286dba22df1d"
      },
      "execution_count": null,
      "outputs": [
        {
          "output_type": "stream",
          "name": "stdout",
          "text": [
            "Enter a number: 10\n",
            "10 is even.\n"
          ]
        }
      ]
    },
    {
      "cell_type": "markdown",
      "source": [
        "11.Test Whether a Passed Letter is a Vowel or Not\n"
      ],
      "metadata": {
        "id": "9uazi8JosLZk"
      }
    },
    {
      "cell_type": "code",
      "source": [
        "def check_vowel(letter):\n",
        "    vowels = \"aeiouAEIOU\"\n",
        "    if letter in vowels:\n",
        "        print(letter, \"is a vowel.\")\n",
        "    else:\n",
        "        print(letter, \"is not a vowel.\")\n",
        "\n",
        "\n",
        "letter = input(\"Enter a letter: \")\n",
        "check_vowel(letter)\n",
        "\n"
      ],
      "metadata": {
        "colab": {
          "base_uri": "https://localhost:8080/"
        },
        "id": "YAxEF9GtsRDQ",
        "outputId": "cefe64fb-d907-4c25-aa77-05de665b4393"
      },
      "execution_count": null,
      "outputs": [
        {
          "output_type": "stream",
          "name": "stdout",
          "text": [
            "Enter a letter: x\n",
            "x is not a vowel.\n"
          ]
        }
      ]
    },
    {
      "cell_type": "markdown",
      "source": [
        "12.Sum of Three Given Integers\n"
      ],
      "metadata": {
        "id": "NoBL_NYVshVf"
      }
    },
    {
      "cell_type": "code",
      "source": [
        "def sum_three_integers(a, b, c):\n",
        "    if a == b or b == c or a == c:\n",
        "        return 0\n",
        "    else:\n",
        "        return a + b + c\n",
        "\n",
        "a = int(input(\"Enter first integer: \"))\n",
        "b = int(input(\"Enter second integer: \"))\n",
        "c = int(input(\"Enter third integer: \"))\n",
        "print(\"Sum:\", sum_three_integers(a, b, c))\n"
      ],
      "metadata": {
        "colab": {
          "base_uri": "https://localhost:8080/"
        },
        "id": "JTCRHJu0snVG",
        "outputId": "958faefc-4f6f-4fd0-eff2-f4aa14c13392"
      },
      "execution_count": null,
      "outputs": [
        {
          "output_type": "stream",
          "name": "stdout",
          "text": [
            "Enter first integer: 7\n",
            "Enter second integer: 8\n",
            "Enter third integer: 9\n",
            "Sum: 24\n"
          ]
        }
      ]
    },
    {
      "cell_type": "markdown",
      "source": [
        "13.Check if Two Given Integer Values Are Equal or Their Sum or Difference is 5"
      ],
      "metadata": {
        "id": "gSeQ_9Yts6pC"
      }
    },
    {
      "cell_type": "code",
      "source": [
        "def check_equal_sum_diff(a, b):\n",
        "    if a == b or a + b == 5 or abs(a - b) == 5:\n",
        "        return True\n",
        "    else:\n",
        "        return False\n",
        "\n",
        "a = int(input(\"Enter first integer: \"))\n",
        "b = int(input(\"Enter second integer: \"))\n",
        "print(check_equal_sum_diff(a, b))\n",
        "\n",
        "\n"
      ],
      "metadata": {
        "colab": {
          "base_uri": "https://localhost:8080/"
        },
        "id": "a3EH4vyVs_o3",
        "outputId": "20c1374d-ec40-4146-d32f-07fc782cfebf"
      },
      "execution_count": null,
      "outputs": [
        {
          "output_type": "stream",
          "name": "stdout",
          "text": [
            "Enter first integer: 8\n",
            "Enter second integer: 4\n",
            "False\n"
          ]
        }
      ]
    },
    {
      "cell_type": "markdown",
      "source": [
        "14.Sum of the First n Positive Integers\n"
      ],
      "metadata": {
        "id": "0RLSO_1vtcrc"
      }
    },
    {
      "cell_type": "code",
      "source": [
        "def sum_first_n(n):\n",
        "    return n * (n + 1) // 2\n",
        "\n",
        "n = int(input(\"Enter a positive integer: \"))\n",
        "print(\"Sum of first\", n, \"positive integers:\", sum_first_n(n))\n",
        "\n",
        "\n",
        "def calculate_string_length(s):\n",
        "    return len(s)\n",
        "\n",
        "s = input(\"Enter a string: \")\n",
        "print(\"Length of the string:\", calculate_string_length(s))\n"
      ],
      "metadata": {
        "colab": {
          "base_uri": "https://localhost:8080/"
        },
        "id": "5ZHOjCbSthUD",
        "outputId": "0df310e3-623a-4568-a181-601e76f2e5cb"
      },
      "execution_count": null,
      "outputs": [
        {
          "output_type": "stream",
          "name": "stdout",
          "text": [
            "Enter a positive integer: 8\n",
            "Sum of first 8 positive integers: 36\n",
            "Enter a string: 45445\n",
            "Length of the string: 5\n"
          ]
        }
      ]
    },
    {
      "cell_type": "markdown",
      "source": [
        "15.Count the Number of Characters (Character Frequency) in a String\n",
        "\n"
      ],
      "metadata": {
        "id": "ktXB51UptvKJ"
      }
    },
    {
      "cell_type": "code",
      "source": [
        "def count_character_frequency(s):\n",
        "    frequency = {}\n",
        "    for char in s:\n",
        "        if char in frequency:\n",
        "            frequency[char] += 1\n",
        "        else:\n",
        "            frequency[char] = 1\n",
        "    return frequency\n",
        "\n",
        "s = input(\"Enter a string: \")\n",
        "print(\"Character frequency:\", count_character_frequency(s))\n"
      ],
      "metadata": {
        "colab": {
          "base_uri": "https://localhost:8080/"
        },
        "id": "efFhQdJzt71c",
        "outputId": "1dc508df-19fc-4794-857b-c6cae6be8ec3"
      },
      "execution_count": null,
      "outputs": [
        {
          "output_type": "stream",
          "name": "stdout",
          "text": [
            "Enter a string: xyz\n",
            "Character frequency: {'x': 1, 'y': 1, 'z': 1}\n"
          ]
        }
      ]
    },
    {
      "cell_type": "markdown",
      "source": [
        "16. Negative Indexes and Why They Are Used\n",
        "Negative indexes in Python are used to access elements from the end of a sequence (such as a string, list, or tuple). The index -1 refers to the last element, -2 refers to the second last element, and so on.\n"
      ],
      "metadata": {
        "id": "zMhqGHpXuGCS"
      }
    },
    {
      "cell_type": "markdown",
      "source": [
        "17.Count Occurrences of a Substring in a String\n",
        "\n",
        "\n",
        "In Python, negative indexing allows accessing elements from the end of a sequence (like lists, strings, or tuples). Instead of counting from the beginning (0, 1, 2...), negative indexes count from the end (-1, -2, -3...).\n",
        "Use of Negative Indexing\n",
        "Easier access to last elements without needing len() function.\n",
        "Convenient for slicing from the end.\n",
        "Avoids IndexErrors when working with unknown-length sequences.\n",
        "\n"
      ],
      "metadata": {
        "id": "l1dKRS9kvnp_"
      }
    },
    {
      "cell_type": "markdown",
      "source": [
        "18.Write a Python program to count occurrences of a substring in a string."
      ],
      "metadata": {
        "id": "vYqi4clv116L"
      }
    },
    {
      "cell_type": "code",
      "source": [
        "s=input(\"enter string\")\n",
        "space=0\n",
        "for i in s:\n",
        "  if i==' ':\n",
        "    space+=1\n",
        "print(f\"The number of sub-string is {space+1}\")"
      ],
      "metadata": {
        "colab": {
          "base_uri": "https://localhost:8080/"
        },
        "id": "meLdXfm-12yD",
        "outputId": "e73d86dd-9df6-4d26-a0b2-76ab710a0a50"
      },
      "execution_count": 36,
      "outputs": [
        {
          "output_type": "stream",
          "name": "stdout",
          "text": [
            "enter stringhello\n",
            "The number of sub-string is 1\n"
          ]
        }
      ]
    },
    {
      "cell_type": "markdown",
      "source": [
        "19.Write a Python program to count the occurrences of each word in a given sentence"
      ],
      "metadata": {
        "id": "RGyHwIJk2Hnx"
      }
    },
    {
      "cell_type": "code",
      "source": [
        "s=input(\"Enter a string to find each character's frequency \")\n",
        "count={}\n",
        "for i in s:\n",
        "  if i in count:\n",
        "    count[i]+=1\n",
        "  else:\n",
        "    count[i]=1\n",
        "print(f\"The number of each character in \\n{s} -> {count}\")"
      ],
      "metadata": {
        "colab": {
          "base_uri": "https://localhost:8080/"
        },
        "id": "dKtsEJsb2Isy",
        "outputId": "3bdf5b85-93fe-4c76-da26-2f56b4d34089"
      },
      "execution_count": 37,
      "outputs": [
        {
          "output_type": "stream",
          "name": "stdout",
          "text": [
            "Enter a string to find each character's frequency hello\n",
            "The number of each character in \n",
            "hello -> {'h': 1, 'e': 1, 'l': 2, 'o': 1}\n"
          ]
        }
      ]
    },
    {
      "cell_type": "markdown",
      "source": [
        "20. Swap the first two characters of each string\n",
        "python\n",
        "Copy\n",
        "Edit\n"
      ],
      "metadata": {
        "id": "Mz2mrDP3zoex"
      }
    },
    {
      "cell_type": "code",
      "source": [
        "def swap_first_two_chars(str1, str2):\n",
        "    new_str1 = str2[:2] + str1[2:]\n",
        "    new_str2 = str1[:2] + str2[2:]\n",
        "    return new_str1 + ' ' + new_str2\n",
        "\n",
        "string1 = \"abc\"\n",
        "string2 = \"xyz\"\n",
        "result = swap_first_two_chars(string1, string2)\n",
        "print(result)\n"
      ],
      "metadata": {
        "colab": {
          "base_uri": "https://localhost:8080/"
        },
        "id": "9Y4eMH6Hzq7y",
        "outputId": "999334e8-2742-479e-8b47-db7ef3bd434c"
      },
      "execution_count": null,
      "outputs": [
        {
          "output_type": "stream",
          "name": "stdout",
          "text": [
            "xyc abz\n"
          ]
        }
      ]
    },
    {
      "cell_type": "markdown",
      "source": [
        "21. Add 'in' or 'ly' to the end of a string"
      ],
      "metadata": {
        "id": "H05_JhI-z0tE"
      }
    },
    {
      "cell_type": "code",
      "source": [
        "def add_suffix(s):\n",
        "    if len(s) < 3:\n",
        "        return s\n",
        "    if s.endswith('ing'):\n",
        "        return s + 'ly'\n",
        "    else:\n",
        "        return s + 'ing'\n",
        "\n",
        "string = \"play\"\n",
        "result = add_suffix(string)\n",
        "print(result)\n"
      ],
      "metadata": {
        "colab": {
          "base_uri": "https://localhost:8080/"
        },
        "id": "SVKGw4Idz7Ro",
        "outputId": "9577d061-5c9b-474b-ce6a-0cc80ba75a90"
      },
      "execution_count": null,
      "outputs": [
        {
          "output_type": "stream",
          "name": "stdout",
          "text": [
            "playing\n"
          ]
        }
      ]
    },
    {
      "cell_type": "markdown",
      "source": [
        "22. Reverse a string if its length is a multiple of 4"
      ],
      "metadata": {
        "id": "qknf8Lb-0BZU"
      }
    },
    {
      "cell_type": "code",
      "source": [
        "def reverse_if_multiple_of_four(s):\n",
        "    if len(s) % 4 == 0:\n",
        "        return s[::-1]\n",
        "    return s\n",
        "\n",
        "string = \"abcd\"\n",
        "result = reverse_if_multiple_of_four(string)\n",
        "print(result)\n"
      ],
      "metadata": {
        "colab": {
          "base_uri": "https://localhost:8080/"
        },
        "id": "45DNGrx-0GtZ",
        "outputId": "62f42160-b788-4176-85ec-688f55ef6845"
      },
      "execution_count": null,
      "outputs": [
        {
          "output_type": "stream",
          "name": "stdout",
          "text": [
            "dcba\n"
          ]
        }
      ]
    },
    {
      "cell_type": "markdown",
      "source": [
        "23. Get a string made of the first 2 and the last 2 chars"
      ],
      "metadata": {
        "id": "f-7xCsnY0QS6"
      }
    },
    {
      "cell_type": "code",
      "source": [
        "def first_last_two_chars(s):\n",
        "    if len(s) < 2:\n",
        "        return ''\n",
        "    return s[:2] + s[-2:]\n",
        "\n",
        "string = \"abcdefg\"\n",
        "result = first_last_two_chars(string)\n",
        "print(result)\n"
      ],
      "metadata": {
        "colab": {
          "base_uri": "https://localhost:8080/"
        },
        "id": "BHYxN6Wa0VzD",
        "outputId": "f1609a5b-b37b-474a-bcab-6f7851cbe324"
      },
      "execution_count": null,
      "outputs": [
        {
          "output_type": "stream",
          "name": "stdout",
          "text": [
            "abfg\n"
          ]
        }
      ]
    },
    {
      "cell_type": "markdown",
      "source": [
        "24. Insert a string in the middle of another string"
      ],
      "metadata": {
        "id": "YtqKJt1A0m77"
      }
    },
    {
      "cell_type": "code",
      "source": [
        "def insert_in_middle(main_str, insert_str):\n",
        "    mid = len(main_str) // 2\n",
        "    return main_str[:mid] + insert_str + main_str[mid:]\n",
        "\n",
        "main_string = \"HelloWorld\"\n",
        "insert_string = \"beautiful\"\n",
        "result = insert_in_middle(main_string, insert_string)\n",
        "print(result)\n"
      ],
      "metadata": {
        "colab": {
          "base_uri": "https://localhost:8080/"
        },
        "id": "UrAwzwOw0t8o",
        "outputId": "8448bdaf-7fb5-4a93-ef71-5efaa96253e8"
      },
      "execution_count": null,
      "outputs": [
        {
          "output_type": "stream",
          "name": "stdout",
          "text": [
            "HellobeautifulWorld\n"
          ]
        }
      ]
    },
    {
      "cell_type": "markdown",
      "source": [
        "25. What is a List? How to reverse a list?\n",
        "\n",
        "\n",
        "A List in Python is a collection of ordered, mutable, and indexable elements. Lists can contain different data types.\n",
        "To reverse a list:"
      ],
      "metadata": {
        "id": "l820Dgze1Dtj"
      }
    },
    {
      "cell_type": "code",
      "source": [
        "list_example = [1, 2, 3, 4, 5]\n",
        "list_example.reverse()\n",
        "print(list_example)\n",
        "\n",
        "reversed_list = list_example[::-1]\n",
        "print(reversed_list)\n"
      ],
      "metadata": {
        "colab": {
          "base_uri": "https://localhost:8080/"
        },
        "id": "tUuuXFLB1Uqf",
        "outputId": "7da2a075-2869-4e47-933e-28e417d8f2fb"
      },
      "execution_count": null,
      "outputs": [
        {
          "output_type": "stream",
          "name": "stdout",
          "text": [
            "[5, 4, 3, 2, 1]\n",
            "[1, 2, 3, 4, 5]\n"
          ]
        }
      ]
    },
    {
      "cell_type": "markdown",
      "source": [
        "26.Remove the last object from a list"
      ],
      "metadata": {
        "id": "bfIvG2iU1eZK"
      }
    },
    {
      "cell_type": "code",
      "source": [
        "list_example = [1, 2, 3, 4, 5]\n",
        "list_example.pop()\n",
        "print(list_example)\n"
      ],
      "metadata": {
        "colab": {
          "base_uri": "https://localhost:8080/"
        },
        "id": "48PzlEWT1nc1",
        "outputId": "426eafc9-c43c-482c-a274-45c5c88dff12"
      },
      "execution_count": null,
      "outputs": [
        {
          "output_type": "stream",
          "name": "stdout",
          "text": [
            "[1, 2, 3, 4]\n"
          ]
        }
      ]
    },
    {
      "cell_type": "markdown",
      "source": [
        "27. What is list1[-1] if list1 = [2, 33, 222, 14, 25]?"
      ],
      "metadata": {
        "id": "U7HV7rTn1uQQ"
      }
    },
    {
      "cell_type": "code",
      "source": [
        "list1 = [2, 33, 222, 14, 25]\n",
        "print(list1[-1])\n"
      ],
      "metadata": {
        "colab": {
          "base_uri": "https://localhost:8080/"
        },
        "id": "pjiTy18Z1zH_",
        "outputId": "ab2944c4-26e2-416c-c86a-17264151061e"
      },
      "execution_count": null,
      "outputs": [
        {
          "output_type": "stream",
          "name": "stdout",
          "text": [
            "25\n"
          ]
        }
      ]
    },
    {
      "cell_type": "markdown",
      "source": [
        "28. Difference between append() and extend() methods\n",
        "\n",
        "append() adds a single element at the end of the list.\n",
        "extend() adds each element of an iterable to the end of the list."
      ],
      "metadata": {
        "id": "7PZYglF717yq"
      }
    },
    {
      "cell_type": "code",
      "source": [
        "list1 = [1, 2, 3]\n",
        "list1.append([4, 5])\n",
        "print(list1)\n",
        "\n",
        "list2 = [1, 2, 3]\n",
        "list2.extend([4, 5])\n",
        "print(list2)\n"
      ],
      "metadata": {
        "colab": {
          "base_uri": "https://localhost:8080/"
        },
        "id": "fWGQvzv92D_K",
        "outputId": "31191c1d-848c-4337-a6fd-825c342bf311"
      },
      "execution_count": null,
      "outputs": [
        {
          "output_type": "stream",
          "name": "stdout",
          "text": [
            "[1, 2, 3, [4, 5]]\n",
            "[1, 2, 3, 4, 5]\n"
          ]
        }
      ]
    },
    {
      "cell_type": "markdown",
      "source": [
        "29. Get the largest, smallest, and sum of all numbers in a list"
      ],
      "metadata": {
        "id": "wZXLlB_h2NFc"
      }
    },
    {
      "cell_type": "code",
      "source": [
        "def list_stats(lst):\n",
        "    largest = max(lst)\n",
        "    smallest = min(lst)\n",
        "    total = sum(lst)\n",
        "    return largest, smallest, total\n",
        "\n",
        "numbers = [1, 2, 3, 4, 5]\n",
        "largest, smallest, total = list_stats(numbers)\n",
        "print(f\"Largest: {largest}, Smallest: {smallest}, Sum: {total}\")\n",
        "\n"
      ],
      "metadata": {
        "colab": {
          "base_uri": "https://localhost:8080/"
        },
        "id": "CVfuMN-22WHT",
        "outputId": "a041fe5f-5c93-4ff7-a022-7a744a2cf2fa"
      },
      "execution_count": null,
      "outputs": [
        {
          "output_type": "stream",
          "name": "stdout",
          "text": [
            "Largest: 5, Smallest: 1, Sum: 15\n"
          ]
        }
      ]
    },
    {
      "cell_type": "markdown",
      "source": [
        "30. Compare two lists"
      ],
      "metadata": {
        "id": "wZfAj3NG2lHd"
      }
    },
    {
      "cell_type": "code",
      "source": [
        "list1 = [1, 2, 3]\n",
        "list2 = [1, 2, 3]\n",
        "list3 = [1, 2, 4]\n",
        "\n",
        "print(list1 == list2)\n",
        "print(list1 == list3)\n"
      ],
      "metadata": {
        "colab": {
          "base_uri": "https://localhost:8080/"
        },
        "id": "fP3FC8FW2mSu",
        "outputId": "c4cd55f4-7a4e-481a-c40d-192107f2787f"
      },
      "execution_count": null,
      "outputs": [
        {
          "output_type": "stream",
          "name": "stdout",
          "text": [
            "True\n",
            "False\n"
          ]
        }
      ]
    },
    {
      "cell_type": "markdown",
      "source": [
        "31. Count strings with length 2+ and same first and last character"
      ],
      "metadata": {
        "id": "OVN8CcVX4m3v"
      }
    },
    {
      "cell_type": "code",
      "source": [
        "def count_special_strings(words):\n",
        "    return sum(1 for word in words if len(word) >= 2 and word[0] == word[-1])\n",
        "\n",
        "words_list = ['abc', 'xyz', 'aba', '1221']\n",
        "result = count_special_strings(words_list)\n",
        "print(result)\n"
      ],
      "metadata": {
        "colab": {
          "base_uri": "https://localhost:8080/"
        },
        "id": "b_njt_p34ot_",
        "outputId": "9b4369c5-3d97-40c4-c407-76858de0321d"
      },
      "execution_count": null,
      "outputs": [
        {
          "output_type": "stream",
          "name": "stdout",
          "text": [
            "2\n"
          ]
        }
      ]
    },
    {
      "cell_type": "markdown",
      "source": [
        "32. Remove duplicates from a list"
      ],
      "metadata": {
        "id": "vpduUdNW46fz"
      }
    },
    {
      "cell_type": "code",
      "source": [
        "def remove_duplicates(lst):\n",
        "    return list(set(lst))\n",
        "\n",
        "list_with_duplicates = [1, 2, 2, 3, 4, 4, 5]\n",
        "result = remove_duplicates(list_with_duplicates)\n",
        "print(result)\n"
      ],
      "metadata": {
        "colab": {
          "base_uri": "https://localhost:8080/"
        },
        "id": "X-gjv7Xs47mX",
        "outputId": "5c6eedef-d516-41dc-8cdd-4ec6a96c756c"
      },
      "execution_count": null,
      "outputs": [
        {
          "output_type": "stream",
          "name": "stdout",
          "text": [
            "[1, 2, 3, 4, 5]\n"
          ]
        }
      ]
    },
    {
      "cell_type": "markdown",
      "source": [
        "33. Check if a list is empty"
      ],
      "metadata": {
        "id": "KcJ_ekh35BAd"
      }
    },
    {
      "cell_type": "code",
      "source": [
        "def is_list_empty(lst):\n",
        "    return len(lst) == 0\n",
        "\n",
        "empty_list = []\n",
        "result = is_list_empty(empty_list)\n",
        "print(result)\n"
      ],
      "metadata": {
        "colab": {
          "base_uri": "https://localhost:8080/"
        },
        "id": "SbAZt0eV5E9T",
        "outputId": "91e2e883-1371-4a33-db32-8243228fe8d9"
      },
      "execution_count": null,
      "outputs": [
        {
          "output_type": "stream",
          "name": "stdout",
          "text": [
            "True\n"
          ]
        }
      ]
    },
    {
      "cell_type": "markdown",
      "source": [
        "34. Check if two lists have at least one common member"
      ],
      "metadata": {
        "id": "Hc3DRHjN5LLg"
      }
    },
    {
      "cell_type": "code",
      "source": [
        "def have_common_member(list1, list2):\n",
        "    return bool(set(list1) & set(list2))\n",
        "\n",
        "list1 = [1, 2, 3, 4, 5]\n",
        "list2 = [5, 6, 7, 8, 9]\n",
        "result = have_common_member(list1, list2)\n",
        "print(result)\n"
      ],
      "metadata": {
        "colab": {
          "base_uri": "https://localhost:8080/"
        },
        "id": "IsogVFcq5MGY",
        "outputId": "ce7e8ea1-3628-49f8-db79-ba0e21f7986d"
      },
      "execution_count": null,
      "outputs": [
        {
          "output_type": "stream",
          "name": "stdout",
          "text": [
            "True\n"
          ]
        }
      ]
    },
    {
      "cell_type": "markdown",
      "source": [
        "35. List of first and last 5 elements (squares of numbers 1 to 30)"
      ],
      "metadata": {
        "id": "OaIqJCzs5TtF"
      }
    },
    {
      "cell_type": "code",
      "source": [
        "def first_last_squares():\n",
        "    squares = [x**2 for x in range(1, 31)]\n",
        "    return squares[:5] + squares[-5:]\n",
        "\n",
        "result = first_last_squares()\n",
        "print(result)\n",
        "\n"
      ],
      "metadata": {
        "colab": {
          "base_uri": "https://localhost:8080/"
        },
        "id": "zUwek88Z5ZF0",
        "outputId": "b3d255ea-9956-41e3-80c1-112962fe5c90"
      },
      "execution_count": null,
      "outputs": [
        {
          "output_type": "stream",
          "name": "stdout",
          "text": [
            "[1, 4, 9, 16, 25, 676, 729, 784, 841, 900]\n"
          ]
        }
      ]
    },
    {
      "cell_type": "markdown",
      "source": [
        "36. Return a new list with unique elements"
      ],
      "metadata": {
        "id": "MRoUPcnG5nmt"
      }
    },
    {
      "cell_type": "code",
      "source": [
        "def unique_elements(lst):\n",
        "    return list(set(lst))\n",
        "\n",
        "list_with_duplicates = [1, 2, 2, 3, 4, 4, 5]\n",
        "result = unique_elements(list_with_duplicates)\n",
        "print(result)\n"
      ],
      "metadata": {
        "colab": {
          "base_uri": "https://localhost:8080/"
        },
        "id": "IlRvWvo-5op-",
        "outputId": "3d1cbc8b-859d-4ac9-e9bf-6b1aa47945d5"
      },
      "execution_count": null,
      "outputs": [
        {
          "output_type": "stream",
          "name": "stdout",
          "text": [
            "[1, 2, 3, 4, 5]\n"
          ]
        }
      ]
    },
    {
      "cell_type": "markdown",
      "source": [
        "37. Convert a list of characters into a string"
      ],
      "metadata": {
        "id": "3lCuQpDH5xFj"
      }
    },
    {
      "cell_type": "code",
      "source": [
        "def list_to_string(char_list):\n",
        "    return ''.join(char_list)\n",
        "\n",
        "char_list = ['H', 'e', 'l', 'l', 'o']\n",
        "result = list_to_string(char_list)\n",
        "print(result)\n"
      ],
      "metadata": {
        "colab": {
          "base_uri": "https://localhost:8080/"
        },
        "id": "rSS1udle5yLW",
        "outputId": "4f68f6fa-13fd-427f-e8b6-6c4b3432f603"
      },
      "execution_count": null,
      "outputs": [
        {
          "output_type": "stream",
          "name": "stdout",
          "text": [
            "Hello\n"
          ]
        }
      ]
    },
    {
      "cell_type": "markdown",
      "source": [
        "38. Select an item randomly from a list"
      ],
      "metadata": {
        "id": "2k874c0J5-rG"
      }
    },
    {
      "cell_type": "code",
      "source": [
        "import random\n",
        "\n",
        "def random_choice(lst):\n",
        "    return random.choice(lst)\n",
        "\n",
        "items = [1, 2, 3, 4, 5]\n",
        "result = random_choice(items)\n",
        "print(result)\n"
      ],
      "metadata": {
        "colab": {
          "base_uri": "https://localhost:8080/"
        },
        "id": "xMVXp2Us5_mN",
        "outputId": "c24d4418-b28b-4097-aeb9-6d890e85c06d"
      },
      "execution_count": null,
      "outputs": [
        {
          "output_type": "stream",
          "name": "stdout",
          "text": [
            "5\n"
          ]
        }
      ]
    },
    {
      "cell_type": "markdown",
      "source": [
        "39. Find the second smallest number in a list"
      ],
      "metadata": {
        "id": "56hglCdQ6Gu-"
      }
    },
    {
      "cell_type": "code",
      "source": [
        "def second_smallest(lst):\n",
        "    unique_elements = sorted(set(lst))\n",
        "    return unique_elements[1] if len(unique_elements) > 1 else None\n",
        "\n",
        "numbers = [1, 2, 2, 3, 4, 5]\n",
        "result = second_smallest(numbers)\n",
        "print(result)\n"
      ],
      "metadata": {
        "colab": {
          "base_uri": "https://localhost:8080/"
        },
        "id": "H-YTdUtr6PF4",
        "outputId": "bc5a7700-3873-4977-fda6-ce8c3e28b448"
      },
      "execution_count": null,
      "outputs": [
        {
          "output_type": "stream",
          "name": "stdout",
          "text": [
            "2\n"
          ]
        }
      ]
    },
    {
      "cell_type": "markdown",
      "source": [
        "40. Get unique values from a list"
      ],
      "metadata": {
        "id": "mZ94_wWs6wf6"
      }
    },
    {
      "cell_type": "code",
      "source": [
        "def get_unique_values(lst):\n",
        "    return list(set(lst))\n",
        "\n",
        "numbers = [1, 2, 2, 3, 4, 4, 5]\n",
        "result = get_unique_values(numbers)\n",
        "print(result)"
      ],
      "metadata": {
        "colab": {
          "base_uri": "https://localhost:8080/"
        },
        "id": "R9d0sCaF60N7",
        "outputId": "43a07ee7-ef8d-4aa2-da4c-e22f045ea8e0"
      },
      "execution_count": null,
      "outputs": [
        {
          "output_type": "stream",
          "name": "stdout",
          "text": [
            "[1, 2, 3, 4, 5]\n"
          ]
        }
      ]
    },
    {
      "cell_type": "markdown",
      "source": [
        "41. Check if a list contains a sublist"
      ],
      "metadata": {
        "id": "8tSOrliz7MNX"
      }
    },
    {
      "cell_type": "code",
      "source": [
        "def contains_sublist(lst, sublist):\n",
        "    return any(lst[i:i+len(sublist)] == sublist for i in range(len(lst) - len(sublist) + 1))\n",
        "\n",
        "main_list = [1, 2, 3, 4, 5]\n",
        "sub_list = [3, 4]\n",
        "result = contains_sublist(main_list, sub_list)\n",
        "print(result)\n"
      ],
      "metadata": {
        "colab": {
          "base_uri": "https://localhost:8080/"
        },
        "id": "Pejj1qTb7Vtb",
        "outputId": "5736a157-e18c-463b-e7ef-6661bbb24f30"
      },
      "execution_count": null,
      "outputs": [
        {
          "output_type": "stream",
          "name": "stdout",
          "text": [
            "True\n"
          ]
        }
      ]
    },
    {
      "cell_type": "markdown",
      "source": [
        "42. Split a list into different variables"
      ],
      "metadata": {
        "id": "piO6hGn17eOg"
      }
    },
    {
      "cell_type": "code",
      "source": [
        "list_example = [1, 2, 3]\n",
        "a, b, c = list_example\n",
        "print(a, b, c)\n"
      ],
      "metadata": {
        "colab": {
          "base_uri": "https://localhost:8080/"
        },
        "id": "rtVnrYFH7hxE",
        "outputId": "d7ce39a6-39e3-4e25-da7f-5da1f21a0a8a"
      },
      "execution_count": null,
      "outputs": [
        {
          "output_type": "stream",
          "name": "stdout",
          "text": [
            "1 2 3\n"
          ]
        }
      ]
    },
    {
      "cell_type": "markdown",
      "source": [
        "43. What is a Tuple? Difference between List and Tuple\n",
        "\n",
        "Tuple: An ordered collection of elements that is immutable (cannot be modified after creation).\n",
        "Difference:\n",
        "List: Mutable, uses square brackets [], slower.\n",
        "Tuple: Immutable, uses parentheses (), faster."
      ],
      "metadata": {
        "id": "2pQSpubl7uq1"
      }
    },
    {
      "cell_type": "code",
      "source": [
        "# Example\n",
        "list_example = [1, 2, 3]\n",
        "tuple_example = (1, 2, 3)\n"
      ],
      "metadata": {
        "id": "CWKGvsXr75TO"
      },
      "execution_count": null,
      "outputs": []
    },
    {
      "cell_type": "markdown",
      "source": [
        "44. Create a tuple with different data types"
      ],
      "metadata": {
        "id": "lS-BLugf8B8I"
      }
    },
    {
      "cell_type": "code",
      "source": [
        "mixed_tuple = (1, \"Hello\", 3.14, True)\n",
        "print(mixed_tuple)"
      ],
      "metadata": {
        "colab": {
          "base_uri": "https://localhost:8080/"
        },
        "id": "B05m1GRT8NZP",
        "outputId": "73f63165-8a88-472c-f787-5226d05e7f9a"
      },
      "execution_count": null,
      "outputs": [
        {
          "output_type": "stream",
          "name": "stdout",
          "text": [
            "(1, 'Hello', 3.14, True)\n"
          ]
        }
      ]
    },
    {
      "cell_type": "markdown",
      "source": [
        "45. Unzip a list of tuples into individual lists"
      ],
      "metadata": {
        "id": "-INFRDan8V4d"
      }
    },
    {
      "cell_type": "code",
      "source": [
        "list_of_tuples = [(1, 'a'), (2, 'b'), (3, 'c')]\n",
        "numbers, letters = zip(*list_of_tuples)\n",
        "print(numbers)\n",
        "print(letters)\n"
      ],
      "metadata": {
        "colab": {
          "base_uri": "https://localhost:8080/"
        },
        "id": "gEtnN6ve8XC9",
        "outputId": "12b7ddb3-3fcd-4f0d-c7c3-3bd3b5e6251c"
      },
      "execution_count": null,
      "outputs": [
        {
          "output_type": "stream",
          "name": "stdout",
          "text": [
            "(1, 2, 3)\n",
            "('a', 'b', 'c')\n"
          ]
        }
      ]
    },
    {
      "cell_type": "markdown",
      "source": [
        "46. Convert a list of tuples into a dictionary"
      ],
      "metadata": {
        "id": "kx5dN6nC8oN3"
      }
    },
    {
      "cell_type": "code",
      "source": [
        "def tuples_to_dict(tuples_list):\n",
        "    return dict(tuples_list)\n",
        "\n",
        "tuples_list = [('a', 1), ('b', 2), ('c', 3)]\n",
        "result = tuples_to_dict(tuples_list)\n",
        "print(result)\n"
      ],
      "metadata": {
        "colab": {
          "base_uri": "https://localhost:8080/"
        },
        "id": "DmJj4qgd8riJ",
        "outputId": "8c4a25e0-b93f-4499-b0c3-fd8dd081c0fd"
      },
      "execution_count": null,
      "outputs": [
        {
          "output_type": "stream",
          "name": "stdout",
          "text": [
            "{'a': 1, 'b': 2, 'c': 3}\n"
          ]
        }
      ]
    },
    {
      "cell_type": "markdown",
      "source": [
        "47. Create a dictionary using tuples in Python"
      ],
      "metadata": {
        "id": "3kurktXs-SJI"
      }
    },
    {
      "cell_type": "code",
      "source": [
        "tuples = (('name', 'John'), ('age', 25), ('city', 'New York'))\n",
        "dictionary = dict(tuples)\n",
        "print(dictionary)"
      ],
      "metadata": {
        "colab": {
          "base_uri": "https://localhost:8080/"
        },
        "id": "ILFlbSuN-T6K",
        "outputId": "2e3c0c46-4949-4e30-86c1-16670a2e5065"
      },
      "execution_count": null,
      "outputs": [
        {
          "output_type": "stream",
          "name": "stdout",
          "text": [
            "{'name': 'John', 'age': 25, 'city': 'New York'}\n"
          ]
        }
      ]
    },
    {
      "cell_type": "markdown",
      "source": [
        "48. Sort a dictionary by value (ascending and descending)"
      ],
      "metadata": {
        "id": "xQWcST9c-nbY"
      }
    },
    {
      "cell_type": "code",
      "source": [
        "def sort_dict_by_value(d, ascending=True):\n",
        "    return dict(sorted(d.items(), key=lambda item: item[1], reverse=not ascending))\n",
        "\n",
        "example_dict = {'apple': 3, 'banana': 1, 'cherry': 2}\n",
        "\n",
        "\n",
        "ascending_result = sort_dict_by_value(example_dict, ascending=True)\n",
        "print(\"Ascending:\", ascending_result)\n",
        "\n",
        "\n",
        "descending_result = sort_dict_by_value(example_dict, ascending=False)\n",
        "print(\"Descending:\", descending_result)\n",
        "\n"
      ],
      "metadata": {
        "colab": {
          "base_uri": "https://localhost:8080/"
        },
        "id": "8X2TMzWX-p-6",
        "outputId": "bafbd971-c588-4236-c478-d55c4df8570b"
      },
      "execution_count": null,
      "outputs": [
        {
          "output_type": "stream",
          "name": "stdout",
          "text": [
            "Ascending: {'banana': 1, 'cherry': 2, 'apple': 3}\n",
            "Descending: {'apple': 3, 'cherry': 2, 'banana': 1}\n"
          ]
        }
      ]
    },
    {
      "cell_type": "markdown",
      "source": [
        "49. Concatenate multiple dictionaries to create a new one"
      ],
      "metadata": {
        "id": "mj4IhmgF-w0b"
      }
    },
    {
      "cell_type": "code",
      "source": [
        "def concatenate_dicts(*dicts):\n",
        "    result = {}\n",
        "    for d in dicts:\n",
        "        result.update(d)\n",
        "    return result\n",
        "\n",
        "dict1 = {'a': 1, 'b': 2}\n",
        "dict2 = {'c': 3, 'd': 4}\n",
        "dict3 = {'e': 5}\n",
        "\n",
        "result = concatenate_dicts(dict1, dict2, dict3)\n",
        "print(result)"
      ],
      "metadata": {
        "colab": {
          "base_uri": "https://localhost:8080/"
        },
        "id": "81r58Ov_-1G7",
        "outputId": "eb976468-1295-4622-ac2f-36e1a8ac2817"
      },
      "execution_count": null,
      "outputs": [
        {
          "output_type": "stream",
          "name": "stdout",
          "text": [
            "{'a': 1, 'b': 2, 'c': 3, 'd': 4, 'e': 5}\n"
          ]
        }
      ]
    },
    {
      "cell_type": "markdown",
      "source": [
        "50. Check if a given key already exists in a dictionary"
      ],
      "metadata": {
        "id": "JtO6wE1p--gO"
      }
    },
    {
      "cell_type": "code",
      "source": [
        "def key_exists(d, key):\n",
        "    return key in d\n",
        "\n",
        "example_dict = {'name': 'Alice', 'age': 30}\n",
        "key_to_check = 'age'\n",
        "\n",
        "result = key_exists(example_dict, key_to_check)\n",
        "print(result)"
      ],
      "metadata": {
        "id": "rLuzUawJ-_oG",
        "outputId": "f1cc3371-f295-4856-d604-d12875c06b10",
        "colab": {
          "base_uri": "https://localhost:8080/"
        }
      },
      "execution_count": null,
      "outputs": [
        {
          "output_type": "stream",
          "name": "stdout",
          "text": [
            "True\n"
          ]
        }
      ]
    },
    {
      "cell_type": "markdown",
      "source": [
        "51 How Do You Traverse Through a Dictionary Object in Python?"
      ],
      "metadata": {
        "id": "3NGsH2eCnHGC"
      }
    },
    {
      "cell_type": "code",
      "source": [
        "my_dict = {'a': 1, 'b': 2, 'c': 3}\n",
        "\n",
        "\n",
        "for key in my_dict:\n",
        "    print(key, my_dict[key])\n",
        "\n",
        "\n",
        "for value in my_dict.values():\n",
        "    print(value)\n",
        "\n",
        "\n",
        "for key, value in my_dict.items():\n",
        "    print(f\"Key: {key}, Value: {value}\")\n"
      ],
      "metadata": {
        "colab": {
          "base_uri": "https://localhost:8080/"
        },
        "id": "sgXR50l0nqmK",
        "outputId": "1c6edfe6-c531-4553-ed7b-4e7ec7787512"
      },
      "execution_count": 1,
      "outputs": [
        {
          "output_type": "stream",
          "name": "stdout",
          "text": [
            "a 1\n",
            "b 2\n",
            "c 3\n",
            "1\n",
            "2\n",
            "3\n",
            "Key: a, Value: 1\n",
            "Key: b, Value: 2\n",
            "Key: c, Value: 3\n"
          ]
        }
      ]
    },
    {
      "cell_type": "markdown",
      "source": [
        "52 How Do You Check the Presence of a Key in A Dictionary?"
      ],
      "metadata": {
        "id": "DIJz8wXloAgz"
      }
    },
    {
      "cell_type": "code",
      "source": [
        "my_dict = {'a': 1, 'b': 2, 'c': 3}\n",
        "\n",
        "if 'b' in my_dict:\n",
        "    print(\"Key 'b' exists in the dictionary.\")\n",
        "else:\n",
        "    print(\"Key 'b' does not exist.\")\n"
      ],
      "metadata": {
        "colab": {
          "base_uri": "https://localhost:8080/"
        },
        "id": "FVBjZAD1oC8z",
        "outputId": "77751438-28db-4b16-d957-d1b331fb1d93"
      },
      "execution_count": 2,
      "outputs": [
        {
          "output_type": "stream",
          "name": "stdout",
          "text": [
            "Key 'b' exists in the dictionary.\n"
          ]
        }
      ]
    },
    {
      "cell_type": "markdown",
      "source": [
        "53 Write a Python script to print a dictionary where the keys are numbers between 1 and 15."
      ],
      "metadata": {
        "id": "JdIpJPhqoMOy"
      }
    },
    {
      "cell_type": "code",
      "source": [
        "num_dict = {x: x**2 for x in range(1, 16)}\n",
        "print(num_dict)\n"
      ],
      "metadata": {
        "colab": {
          "base_uri": "https://localhost:8080/"
        },
        "id": "AwTPR6V_oOJd",
        "outputId": "cd69a430-b73c-424c-a0d9-c8bf4a764dc1"
      },
      "execution_count": 3,
      "outputs": [
        {
          "output_type": "stream",
          "name": "stdout",
          "text": [
            "{1: 1, 2: 4, 3: 9, 4: 16, 5: 25, 6: 36, 7: 49, 8: 64, 9: 81, 10: 100, 11: 121, 12: 144, 13: 169, 14: 196, 15: 225}\n"
          ]
        }
      ]
    },
    {
      "cell_type": "markdown",
      "source": [
        "54 Write a Python program to check multiple keys exist in a dictionary.\n",
        "\n"
      ],
      "metadata": {
        "id": "HwXzNQhioaK_"
      }
    },
    {
      "cell_type": "code",
      "source": [
        "my_dict = {'a': 1, 'b': 2, 'c': 3, 'd': 4}\n",
        "\n",
        "\n",
        "keys_to_check = {'a', 'c', 'd'}\n",
        "\n",
        "\n",
        "if keys_to_check.issubset(my_dict.keys()):\n",
        "    print(\"All keys exist in the dictionary.\")\n",
        "else:\n",
        "    print(\"Some keys are missing.\")\n"
      ],
      "metadata": {
        "colab": {
          "base_uri": "https://localhost:8080/"
        },
        "id": "GbuJ9F_sodnB",
        "outputId": "dbaf5a71-4d47-404c-9c30-abfefd055928"
      },
      "execution_count": 4,
      "outputs": [
        {
          "output_type": "stream",
          "name": "stdout",
          "text": [
            "All keys exist in the dictionary.\n"
          ]
        }
      ]
    },
    {
      "cell_type": "markdown",
      "source": [
        "55 Write a Python script to merge two Python dictionaries."
      ],
      "metadata": {
        "id": "D7D6MIrZopk8"
      }
    },
    {
      "cell_type": "code",
      "source": [
        "dict1 = {'a': 1, 'b': 2}\n",
        "dict2 = {'c': 3, 'd': 4}\n",
        "\n",
        "\n",
        "dict1.update(dict2)\n",
        "\n",
        "print(dict1)\n"
      ],
      "metadata": {
        "colab": {
          "base_uri": "https://localhost:8080/"
        },
        "id": "NedBzrJLorV-",
        "outputId": "eb35b361-babe-4e15-f646-b35fca6ae88e"
      },
      "execution_count": 5,
      "outputs": [
        {
          "output_type": "stream",
          "name": "stdout",
          "text": [
            "{'a': 1, 'b': 2, 'c': 3, 'd': 4}\n"
          ]
        }
      ]
    },
    {
      "cell_type": "markdown",
      "source": [
        "56. Write a Python program to map two lists into a dictionary."
      ],
      "metadata": {
        "id": "RljhlbdMowuP"
      }
    },
    {
      "cell_type": "code",
      "source": [
        "keys = ['name', 'age', 'city']\n",
        "values = ['jhon', 25, 'New York']\n",
        "\n",
        "mapped_dict = dict(zip(keys, values))\n",
        "\n",
        "print(mapped_dict)\n"
      ],
      "metadata": {
        "colab": {
          "base_uri": "https://localhost:8080/"
        },
        "id": "HvgaUe8_o1oz",
        "outputId": "056f4f92-62fa-4ce1-d625-2a2dccc544f5"
      },
      "execution_count": 6,
      "outputs": [
        {
          "output_type": "stream",
          "name": "stdout",
          "text": [
            "{'name': 'jhon', 'age': 25, 'city': 'New York'}\n"
          ]
        }
      ]
    },
    {
      "cell_type": "markdown",
      "source": [
        "57 Write a Python program to find the highest 3 values in a dictionary."
      ],
      "metadata": {
        "id": "MRHmkya7pMNX"
      }
    },
    {
      "cell_type": "code",
      "source": [
        "my_dict = {'a': 10, 'b': 25, 'c': 45, 'd': 30, 'e': 50}\n",
        "\n",
        "\n",
        "highest_values = sorted(my_dict.values(), reverse=True)[:3]\n",
        "\n",
        "print(highest_values)\n"
      ],
      "metadata": {
        "colab": {
          "base_uri": "https://localhost:8080/"
        },
        "id": "V6EP8_yzpTp5",
        "outputId": "0c13a9ea-e3be-4c84-abf9-0e70c21f01d5"
      },
      "execution_count": 7,
      "outputs": [
        {
          "output_type": "stream",
          "name": "stdout",
          "text": [
            "[50, 45, 30]\n"
          ]
        }
      ]
    },
    {
      "cell_type": "markdown",
      "source": [
        "58 Write a Python program to combine values in a Python list of dictionaries."
      ],
      "metadata": {
        "id": "jNf-1gdNpaQT"
      }
    },
    {
      "cell_type": "code",
      "source": [
        "from collections import Counter\n",
        "\n",
        "data = [{'item': 'item1', 'amount': 400},\n",
        "        {'item': 'item2', 'amount': 300},\n",
        "        {'item': 'item1', 'amount': 750}]\n",
        "\n",
        "counter = Counter()\n",
        "\n",
        "for entry in data:\n",
        "    counter[entry['item']] += entry['amount']\n",
        "\n",
        "print(counter)\n"
      ],
      "metadata": {
        "colab": {
          "base_uri": "https://localhost:8080/"
        },
        "id": "a-pn69wOpdmH",
        "outputId": "a4860b25-2dd7-439d-ceda-88a555183ac2"
      },
      "execution_count": 8,
      "outputs": [
        {
          "output_type": "stream",
          "name": "stdout",
          "text": [
            "Counter({'item1': 1150, 'item2': 300})\n"
          ]
        }
      ]
    },
    {
      "cell_type": "markdown",
      "source": [
        "59.Write a Python program to create a dictionary from a string"
      ],
      "metadata": {
        "id": "bqECcA-Fp1Xb"
      }
    },
    {
      "cell_type": "code",
      "source": [
        "from collections import Counter\n",
        "string = \"coding\"\n",
        "letter_count = Counter(string)\n",
        "print(letter_count)"
      ],
      "metadata": {
        "colab": {
          "base_uri": "https://localhost:8080/"
        },
        "id": "vT8m0RTUp2ns",
        "outputId": "700a7671-0bb5-4a68-891e-ebf9d07d817a"
      },
      "execution_count": 10,
      "outputs": [
        {
          "output_type": "stream",
          "name": "stdout",
          "text": [
            "Counter({'c': 1, 'o': 1, 'd': 1, 'i': 1, 'n': 1, 'g': 1})\n"
          ]
        }
      ]
    },
    {
      "cell_type": "markdown",
      "source": [
        "60.Sample string:'w3resource'"
      ],
      "metadata": {
        "id": "5c1zjZymqLyI"
      }
    },
    {
      "cell_type": "code",
      "source": [
        "string = \"w3resource\"\n",
        "letter_count = Counter(string)\n",
        "print(letter_count)"
      ],
      "metadata": {
        "colab": {
          "base_uri": "https://localhost:8080/"
        },
        "id": "76VE-hyxqMsb",
        "outputId": "c4e35e21-a0ca-4326-b102-b2a9d3b536c1"
      },
      "execution_count": 11,
      "outputs": [
        {
          "output_type": "stream",
          "name": "stdout",
          "text": [
            "Counter({'r': 2, 'e': 2, 'w': 1, '3': 1, 's': 1, 'o': 1, 'u': 1, 'c': 1})\n"
          ]
        }
      ]
    },
    {
      "cell_type": "markdown",
      "source": [
        "61.Write a Python function to calculate the factorial of a number (a nonnegative integer)"
      ],
      "metadata": {
        "id": "Fa0IsEA6qUXm"
      }
    },
    {
      "cell_type": "code",
      "source": [
        "def factorial(n):\n",
        "    if n == 0 or n == 1:\n",
        "        return 1\n",
        "    else:\n",
        "        result=1\n",
        "        for i in range(1, n + 1):\n",
        "            result *= i\n",
        "        return result\n",
        "\n",
        "factorial(5)"
      ],
      "metadata": {
        "colab": {
          "base_uri": "https://localhost:8080/"
        },
        "id": "awfOJCguqVQY",
        "outputId": "788b6a34-b086-4251-f822-23040ab8699d"
      },
      "execution_count": 12,
      "outputs": [
        {
          "output_type": "execute_result",
          "data": {
            "text/plain": [
              "120"
            ]
          },
          "metadata": {},
          "execution_count": 12
        }
      ]
    },
    {
      "cell_type": "markdown",
      "source": [
        " 62.Write a Python function to check whether a number is in a given range."
      ],
      "metadata": {
        "id": "okpaatxlqh1k"
      }
    },
    {
      "cell_type": "code",
      "source": [
        "def in_range(num, start, end):\n",
        "    return start <= num <= end\n",
        "\n",
        "print(in_range(10, 5, 15))\n"
      ],
      "metadata": {
        "colab": {
          "base_uri": "https://localhost:8080/"
        },
        "id": "OgBUvs_Qql1U",
        "outputId": "c7506556-52fb-419a-a759-0a70e18cbf49"
      },
      "execution_count": 13,
      "outputs": [
        {
          "output_type": "stream",
          "name": "stdout",
          "text": [
            "True\n"
          ]
        }
      ]
    },
    {
      "cell_type": "markdown",
      "source": [
        "63 Write a Python function to check whether a number is perfect or not."
      ],
      "metadata": {
        "id": "bkBO3nOUqtz_"
      }
    },
    {
      "cell_type": "code",
      "source": [
        "def is_perfect(n):\n",
        "    return n == sum(i for i in range(1, n) if n % i == 0)\n",
        "\n",
        "print(is_perfect(28))\n"
      ],
      "metadata": {
        "colab": {
          "base_uri": "https://localhost:8080/"
        },
        "id": "-a-463ENqv-i",
        "outputId": "95b97ee0-e16a-4c2f-d070-d2b0f18fcf23"
      },
      "execution_count": 14,
      "outputs": [
        {
          "output_type": "stream",
          "name": "stdout",
          "text": [
            "True\n"
          ]
        }
      ]
    },
    {
      "cell_type": "markdown",
      "source": [
        "64.Write a Python function that checks whether a passed string is palindrome or not\n",
        "\n"
      ],
      "metadata": {
        "id": "lvQku-FIq2rL"
      }
    },
    {
      "cell_type": "code",
      "source": [
        "def is_palindrome():\n",
        "    s=input('Enter the string->')\n",
        "    return s==s[::-1]\n",
        "is_palindrome()"
      ],
      "metadata": {
        "colab": {
          "base_uri": "https://localhost:8080/"
        },
        "id": "LFLLeP51rCFZ",
        "outputId": "eb64d69e-adf1-468f-bea6-0c50f497237a"
      },
      "execution_count": 15,
      "outputs": [
        {
          "name": "stdout",
          "output_type": "stream",
          "text": [
            "Enter the string->abcba\n"
          ]
        },
        {
          "output_type": "execute_result",
          "data": {
            "text/plain": [
              "True"
            ]
          },
          "metadata": {},
          "execution_count": 15
        }
      ]
    },
    {
      "cell_type": "markdown",
      "source": [
        "65.How Many Basic Types of Functions Are Available in Python?\n",
        "\n",
        "Basic Types of Functions in Python:\n",
        "\n",
        "These are predefined functions in Python.\n",
        "Example: print(), len(), sum(), max(),\n",
        "-User-defined Functions\n",
        "Functions created by users using the def keyword.\n",
        "-Other Function Types:\n",
        "Lambda Functions → Anonymous, single-expression functions.\n",
        "Recursive Functions → Functions that call themselves.\n",
        "Generator Functions → Functions that use yield instead of return."
      ],
      "metadata": {
        "id": "YrsY3WysrOFF"
      }
    },
    {
      "cell_type": "markdown",
      "source": [
        "66.How can you pick a random item from a list or tuple?\n",
        "\n",
        "\n",
        "Using the random.choice() function from the random module"
      ],
      "metadata": {
        "id": "R0Au8Q6frlvq"
      }
    },
    {
      "cell_type": "markdown",
      "source": [
        "67 How can you pick a random item from a range?"
      ],
      "metadata": {
        "id": "fJP5kRbur_mq"
      }
    },
    {
      "cell_type": "code",
      "source": [
        "import random\n",
        "\n",
        "random_number = random.randrange(1, 200)\n",
        "print(random_number)\n"
      ],
      "metadata": {
        "colab": {
          "base_uri": "https://localhost:8080/"
        },
        "id": "yIb_XsUwsHeR",
        "outputId": "8c768b5f-8368-40ba-d09a-64caff2c9ebf"
      },
      "execution_count": 22,
      "outputs": [
        {
          "output_type": "stream",
          "name": "stdout",
          "text": [
            "5\n"
          ]
        }
      ]
    },
    {
      "cell_type": "markdown",
      "source": [
        "68 How can you get a random number in Python?"
      ],
      "metadata": {
        "id": "fPyJ4cD2ssmm"
      }
    },
    {
      "cell_type": "code",
      "source": [
        "import random\n",
        "\n",
        "random_num = random.random()\n",
        "\n",
        "print(random_num)\n"
      ],
      "metadata": {
        "colab": {
          "base_uri": "https://localhost:8080/"
        },
        "id": "2pU8w0RCswOW",
        "outputId": "c1b1f454-6c80-4214-ef9d-7bc22b71eead"
      },
      "execution_count": 26,
      "outputs": [
        {
          "output_type": "stream",
          "name": "stdout",
          "text": [
            "0.9202487603732052\n"
          ]
        }
      ]
    },
    {
      "cell_type": "markdown",
      "source": [
        "69.How will you set the starting value in generating random numbers?\n",
        "\n",
        "Use random.seed(value) to initialize the random number generator with a specific seed value.\n",
        "\n",
        "\n",
        "\n",
        "\n",
        "70.How will you randomize the items of a list in place?\n",
        "\n",
        "\n",
        "To randomize the items of a list in place, you can use the random.shuffle() function from the random module. This function rearranges the elements of the list in a random order directly (in place), without returning a new list."
      ],
      "metadata": {
        "id": "SVt8_p1vtEEs"
      }
    },
    {
      "cell_type": "markdown",
      "source": [
        "71 What is a File function in Python? What are keywords to create and write a file?\n",
        "\n",
        "\n",
        "File functions in Python are used to handle files (reading, writing, and modifying them). The main function for file handling is open().\n",
        "Keywords to create and write a file:\n",
        "\n",
        "\"w\" → Write mode (overwrites existing content)\n",
        "\n",
        "\"a\" → Append mode (adds content without overwriting)\n",
        "\n",
        "\"x\" → Exclusive mode (creates a new file, fails if it exists)\n",
        "\n",
        "\"r\" → Read mode (default)"
      ],
      "metadata": {
        "id": "Us3lD4FYtOKi"
      }
    },
    {
      "cell_type": "markdown",
      "source": [
        "72 Write a Python program to read an entire text file."
      ],
      "metadata": {
        "id": "-jMCp6sSuHQc"
      }
    },
    {
      "cell_type": "code",
      "source": [
        "with open(\"example.txt\", \"r\") as file:\n",
        "    content = file.read()\n",
        "\n",
        "print(content)\n"
      ],
      "metadata": {
        "id": "lVBGMOHtuOVT"
      },
      "execution_count": 27,
      "outputs": []
    },
    {
      "cell_type": "markdown",
      "source": [
        "73 Write a Python program to append text to a file and display the text."
      ],
      "metadata": {
        "id": "b335KKPvutvf"
      }
    },
    {
      "cell_type": "code",
      "source": [
        "with open(\"example.txt\", \"a\") as file:\n",
        "    file.write(\"\\nThis is an appended line.\")\n",
        "\n",
        "with open(\"example.txt\", \"r\") as file:\n",
        "    content = file.read()\n",
        "\n",
        "print(content)\n"
      ],
      "metadata": {
        "id": "N6P9jPozuy_r"
      },
      "execution_count": null,
      "outputs": []
    },
    {
      "cell_type": "markdown",
      "source": [
        "74 Write a Python program to read the first n lines of a file."
      ],
      "metadata": {
        "id": "jvFnrPahu2zL"
      }
    },
    {
      "cell_type": "code",
      "source": [
        "def read_first_n_lines(filename, n):\n",
        "    with open(filename, \"r\") as file:\n",
        "        for _ in range(n):\n",
        "            print(file.readline().strip())\n",
        "\n",
        "read_first_n_lines(\"example.txt\", 3)\n"
      ],
      "metadata": {
        "id": "5mZx94hnu9b6"
      },
      "execution_count": null,
      "outputs": []
    },
    {
      "cell_type": "markdown",
      "source": [
        "75 Write a Python program to read the last n lines of a file."
      ],
      "metadata": {
        "id": "dGDLBDEivCS4"
      }
    },
    {
      "cell_type": "code",
      "source": [
        "from collections import deque\n",
        "\n",
        "def read_last_n_lines(filename, n):\n",
        "    with open(filename, \"r\") as file:\n",
        "        lines = deque(file, n)\n",
        "    print(\"\".join(lines))\n",
        "\n",
        "read_last_n_lines(\"example.txt\", 3)\n"
      ],
      "metadata": {
        "id": "gD9hC3JWvFTS"
      },
      "execution_count": null,
      "outputs": []
    },
    {
      "cell_type": "markdown",
      "source": [
        "76 Write a Python program to read a file line by line and store it into a list."
      ],
      "metadata": {
        "id": "AE-DvS9XvOEw"
      }
    },
    {
      "cell_type": "code",
      "source": [
        "with open(\"example.txt\", \"r\") as file:\n",
        "    lines = file.readlines()\n",
        "\n",
        "print(lines)\n"
      ],
      "metadata": {
        "colab": {
          "base_uri": "https://localhost:8080/"
        },
        "id": "HclK_r-IvRlc",
        "outputId": "e7c2f7f6-a97a-4eef-c4f3-ab2a037d0c34"
      },
      "execution_count": 28,
      "outputs": [
        {
          "output_type": "stream",
          "name": "stdout",
          "text": [
            "[]\n"
          ]
        }
      ]
    },
    {
      "cell_type": "markdown",
      "source": [
        "77 Write a Python program to read a file line by line and store it into a variable."
      ],
      "metadata": {
        "id": "4-krlX5EvWdc"
      }
    },
    {
      "cell_type": "code",
      "source": [
        "with open(\"example.txt\", \"r\") as file:\n",
        "    content = file.read()\n",
        "\n",
        "print(content)\n"
      ],
      "metadata": {
        "id": "6hvnJnPKvZTg"
      },
      "execution_count": null,
      "outputs": []
    },
    {
      "cell_type": "markdown",
      "source": [
        "78 Write a Python program to find the longest word in a file."
      ],
      "metadata": {
        "id": "G22bmXsVve9w"
      }
    },
    {
      "cell_type": "code",
      "source": [
        "def longest_word(filename):\n",
        "    with open(filename, \"r\") as file:\n",
        "        words = file.read().split()\n",
        "    return max(words, key=len)\n",
        "\n",
        "print(\"Longest word:\", longest_word(\"example.txt\"))\n"
      ],
      "metadata": {
        "id": "OCCNxqg-vjC9"
      },
      "execution_count": null,
      "outputs": []
    },
    {
      "cell_type": "markdown",
      "source": [
        "79 Write a Python program to count the number of lines in a text file."
      ],
      "metadata": {
        "id": "SPgW2gfIvp04"
      }
    },
    {
      "cell_type": "code",
      "source": [
        "def count_lines(filename):\n",
        "    with open(filename, \"r\") as file:\n",
        "        return sum(1 for _ in file)\n",
        "\n",
        "print(\"Number of lines:\", count_lines(\"example.txt\"))\n"
      ],
      "metadata": {
        "id": "kP5Al8TLvrYC"
      },
      "execution_count": null,
      "outputs": []
    },
    {
      "cell_type": "markdown",
      "source": [
        "80 Write a Python program to count the frequency of words in a file and explain the code."
      ],
      "metadata": {
        "id": "dy8CxZ8hweKS"
      }
    },
    {
      "cell_type": "code",
      "source": [
        "from collections import Counter\n",
        "\n",
        "def word_frequency(filename):\n",
        "    with open(filename, \"r\") as file:\n",
        "        words = file.read().lower().split()\n",
        "    word_count = Counter(words)\n",
        "    return word_count\n",
        "\n",
        "print(word_frequency(\"example.txt\"))\n"
      ],
      "metadata": {
        "id": "mY9yKI_bwgv6"
      },
      "execution_count": null,
      "outputs": []
    },
    {
      "cell_type": "markdown",
      "source": [
        "81 Write a Python program to write a list to a file."
      ],
      "metadata": {
        "id": "1cY--42jwzCf"
      }
    },
    {
      "cell_type": "code",
      "source": [
        "my_list = [\"apple\", \"banana\", \"cherry\", \"date\"]\n",
        "\n",
        "with open(\"output.txt\", \"w\") as file:\n",
        "    for item in my_list:\n",
        "        file.write(item + \"\\n\")\n",
        "\n",
        "print(\"List written to file successfully!\")\n"
      ],
      "metadata": {
        "id": "4GupisTPw2N4"
      },
      "execution_count": null,
      "outputs": []
    },
    {
      "cell_type": "markdown",
      "source": [
        "82 Write a Python program to copy the contents of a file to another file."
      ],
      "metadata": {
        "id": "OTkh8SfxxFFh"
      }
    },
    {
      "cell_type": "code",
      "source": [
        "with open(\"source.txt\", \"r\") as source, open(\"destination.txt\", \"w\") as dest:\n",
        "    for line in source:\n",
        "        dest.write(line)\n",
        "\n",
        "print(\"File copied successfully!\")\n"
      ],
      "metadata": {
        "id": "vpw8sM0dygE5"
      },
      "execution_count": null,
      "outputs": []
    },
    {
      "cell_type": "markdown",
      "source": [
        "83 Explain Exception Handling? What is an Error in Python?\n",
        "\n",
        " Exception Handling is used to manage runtime errors in Python. It prevents the program from crashing and allows for proper debugging.\n",
        "\n",
        " Errors in Python:\n",
        "\n",
        "Syntax Errors – Mistakes in the code structure (print \"Hello\" instead of print(\"Hello\")).\n",
        "Runtime Errors (Exceptions) – Errors that occur while executing the program (e.g., division by zero, file not found)."
      ],
      "metadata": {
        "id": "Yp3OBBboyhVZ"
      }
    },
    {
      "cell_type": "markdown",
      "source": [
        "84 How many except statements can a try-except block have? Name Some built-in exception classes.\n",
        "\n",
        " A try block can have multiple except blocks, handling different exceptions separately.\n",
        "\n",
        "Some built-in exception classes:\n",
        "\n",
        "\n",
        "ZeroDivisionError\n",
        "\n",
        "FileNotFoundError\n",
        "\n",
        "IndexError\n",
        "\n",
        "\n",
        "ValueError\n",
        "\n",
        "KeyError\n",
        "\n",
        "TypeError\n",
        "\n",
        "NameError"
      ],
      "metadata": {
        "id": "jA_fzwyMyqNW"
      }
    },
    {
      "cell_type": "markdown",
      "source": [
        "85 When will the else part of try-except-else be executed?"
      ],
      "metadata": {
        "id": "GWYAXL7Dy8WC"
      }
    },
    {
      "cell_type": "code",
      "source": [
        "try:\n",
        "    num = int(input(\"Enter a number: \"))\n",
        "except ValueError:\n",
        "    print(\"Invalid input!\")\n",
        "else:\n",
        "    print(\"You entered:\", num)\n"
      ],
      "metadata": {
        "colab": {
          "base_uri": "https://localhost:8080/"
        },
        "id": "m5Cxa52pzCK8",
        "outputId": "1edec5c8-ff03-4fdd-f733-1d9643e38b78"
      },
      "execution_count": 29,
      "outputs": [
        {
          "output_type": "stream",
          "name": "stdout",
          "text": [
            "Enter a number: 74\n",
            "You entered: 74\n"
          ]
        }
      ]
    },
    {
      "cell_type": "markdown",
      "source": [
        "86 Can one block of except statements handle multiple exceptions?"
      ],
      "metadata": {
        "id": "TGbuT2przPB4"
      }
    },
    {
      "cell_type": "code",
      "source": [
        "try:\n",
        "    x = int(\"hello\")\n",
        "except (ValueError, TypeError) as e:\n",
        "    print(\"Exception occurred:\", e)\n"
      ],
      "metadata": {
        "id": "j_EMQ1jezS02"
      },
      "execution_count": null,
      "outputs": []
    },
    {
      "cell_type": "markdown",
      "source": [
        "87 When is the finally block executed?"
      ],
      "metadata": {
        "id": "HfZVVbirzWaB"
      }
    },
    {
      "cell_type": "code",
      "source": [
        "try:\n",
        "    print(10 / 2)\n",
        "except ZeroDivisionError:\n",
        "    print(\"Cannot divide by zero!\")\n",
        "finally:\n",
        "    print(\"This always runs!\")\n"
      ],
      "metadata": {
        "colab": {
          "base_uri": "https://localhost:8080/"
        },
        "id": "Tpmh2yo5zZ7g",
        "outputId": "1d269c82-cd51-42ea-8957-27f290df1a8a"
      },
      "execution_count": 30,
      "outputs": [
        {
          "output_type": "stream",
          "name": "stdout",
          "text": [
            "5.0\n",
            "This always runs!\n"
          ]
        }
      ]
    },
    {
      "cell_type": "markdown",
      "source": [
        "88 What happens when '1' == 1 is executed?\n",
        "\n",
        "It returns False, because:\n",
        "\n",
        "'1' is a string.\n",
        "\n",
        "1 is an integer."
      ],
      "metadata": {
        "id": "sov72pJSzmqZ"
      }
    },
    {
      "cell_type": "markdown",
      "source": [
        "89 How Do You Handle Exceptions with Try/Except/Finally in Python? Explain with coding snippets."
      ],
      "metadata": {
        "id": "xpaceQ6gzzyO"
      }
    },
    {
      "cell_type": "code",
      "source": [
        "try:\n",
        "    num = int(input(\"Enter a number: \"))\n",
        "    result = 10 / num\n",
        "except ZeroDivisionError:\n",
        "    print(\"Cannot divide by zero!\")\n",
        "except ValueError:\n",
        "    print(\"Invalid input! Enter a number.\")\n",
        "else:\n",
        "    print(\"Result:\", result)\n",
        "finally:\n",
        "    print(\"Execution completed.\")\n"
      ],
      "metadata": {
        "colab": {
          "base_uri": "https://localhost:8080/"
        },
        "id": "WtXd1CJJz3FZ",
        "outputId": "b61a5bdc-7029-4bf0-906e-5b92b65edaa3"
      },
      "execution_count": 31,
      "outputs": [
        {
          "output_type": "stream",
          "name": "stdout",
          "text": [
            "Enter a number: 50\n",
            "Result: 0.2\n",
            "Execution completed.\n"
          ]
        }
      ]
    },
    {
      "cell_type": "markdown",
      "source": [
        "90 Write a Python program that allows the user to enter only odd numbers, else it will raise an exception.\n",
        "\n"
      ],
      "metadata": {
        "id": "_0Ahm8ACz97t"
      }
    },
    {
      "cell_type": "code",
      "source": [
        "class NotOddNumber(Exception):\n",
        "    pass\n",
        "\n",
        "try:\n",
        "    num = int(input(\"Enter an odd number: \"))\n",
        "    if num % 2 == 0:\n",
        "        raise NotOddNumber(\"This is not an odd number!\")\n",
        "    print(\"Valid input:\", num)\n",
        "except NotOddNumber as e:\n",
        "    print(e)\n",
        "except ValueError:\n",
        "    print(\"Invalid input! Enter a number.\")\n"
      ],
      "metadata": {
        "colab": {
          "base_uri": "https://localhost:8080/"
        },
        "id": "EM-8aDwx0GOJ",
        "outputId": "35957e6e-52af-4728-bf98-ccafdd597882"
      },
      "execution_count": 34,
      "outputs": [
        {
          "output_type": "stream",
          "name": "stdout",
          "text": [
            "Enter an odd number: 11\n",
            "Valid input: 11\n"
          ]
        }
      ]
    }
  ]
}